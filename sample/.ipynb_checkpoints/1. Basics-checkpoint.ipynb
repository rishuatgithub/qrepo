{
 "cells": [
  {
   "cell_type": "code",
   "execution_count": 1,
   "metadata": {},
   "outputs": [],
   "source": [
    "import numpy as np"
   ]
  },
  {
   "cell_type": "markdown",
   "metadata": {},
   "source": [
    "# Complex Numbers"
   ]
  },
  {
   "cell_type": "code",
   "execution_count": 2,
   "metadata": {},
   "outputs": [],
   "source": [
    "z = 5+4j"
   ]
  },
  {
   "cell_type": "code",
   "execution_count": 3,
   "metadata": {},
   "outputs": [
    {
     "name": "stdout",
     "output_type": "stream",
     "text": [
      "The Real part of z: 5.0\n",
      "The Imaginary part of z: 4.0\n"
     ]
    }
   ],
   "source": [
    "print(f'The Real part of z: {np.real(z)}')\n",
    "print(f'The Imaginary part of z: {np.imag(z)}')"
   ]
  },
  {
   "cell_type": "code",
   "execution_count": 13,
   "metadata": {},
   "outputs": [],
   "source": [
    "w = 3-2j"
   ]
  },
  {
   "cell_type": "code",
   "execution_count": 14,
   "metadata": {},
   "outputs": [
    {
     "data": {
      "text/plain": [
       "(8+2j)"
      ]
     },
     "execution_count": 14,
     "metadata": {},
     "output_type": "execute_result"
    }
   ],
   "source": [
    "z+w"
   ]
  },
  {
   "cell_type": "code",
   "execution_count": 15,
   "metadata": {},
   "outputs": [
    {
     "name": "stdout",
     "output_type": "stream",
     "text": [
      "The Complex number w: (3-2j)\n",
      "The Complex conjugate of w: (3+2j)\n"
     ]
    }
   ],
   "source": [
    "## complex conjugate\n",
    "\n",
    "print(f'The Complex number w: {w}')\n",
    "print(f'The Complex conjugate of w: {np.conj(w)}')"
   ]
  },
  {
   "cell_type": "code",
   "execution_count": 16,
   "metadata": {},
   "outputs": [
    {
     "name": "stdout",
     "output_type": "stream",
     "text": [
      "The Complex number z: (5+4j)\n",
      "The absolute value of z: 6.4031242374328485\n"
     ]
    }
   ],
   "source": [
    "## Normal and Absolute values\n",
    "\n",
    "print(f'The Complex number z: {z}')\n",
    "print(f'The absolute value of z: {np.abs(z)}')"
   ]
  },
  {
   "cell_type": "code",
   "execution_count": 17,
   "metadata": {},
   "outputs": [
    {
     "name": "stdout",
     "output_type": "stream",
     "text": [
      "The Complex number w: (3-2j)\n",
      "The absolute value of w: 3.605551275463989\n"
     ]
    }
   ],
   "source": [
    "print(f'The Complex number w: {w}')\n",
    "print(f'The absolute value of w: {np.abs(w)}')"
   ]
  },
  {
   "cell_type": "markdown",
   "metadata": {},
   "source": [
    "# Bra-Ket Notation"
   ]
  },
  {
   "cell_type": "code",
   "execution_count": 18,
   "metadata": {},
   "outputs": [
    {
     "data": {
      "text/plain": [
       "array([10. +0.j,  5. +2.j,  3.2+0.j])"
      ]
     },
     "execution_count": 18,
     "metadata": {},
     "output_type": "execute_result"
    }
   ],
   "source": [
    "row_vec = np.array([10, 5+2j, 3.2])\n",
    "\n",
    "row_vec"
   ]
  },
  {
   "cell_type": "code",
   "execution_count": 19,
   "metadata": {},
   "outputs": [
    {
     "data": {
      "text/plain": [
       "array([[1.+0.j, 2.+0.j],\n",
       "       [3.+0.j, 3.-2.j]])"
      ]
     },
     "execution_count": 19,
     "metadata": {},
     "output_type": "execute_result"
    }
   ],
   "source": [
    "col_vec = np.array([[1,2],[3,3-2j]])\n",
    "\n",
    "col_vec"
   ]
  },
  {
   "cell_type": "markdown",
   "metadata": {},
   "source": [
    "In quantum space, row vectors are called '**Bra-vectors**' and column vectors are called '**Ket-vectors**'\n",
    "\n",
    "The notations are:\n",
    "\n",
    "- ROW VECTOR: <A| = (v1,v2,...,vn)\n",
    "- COL VECTOR: B|> = (v1)\n",
    "                  (v2)\n",
    "                  (..)\n",
    "                  (vn)\n",
    "                  \n",
    "                  \n",
    "If you are having a ket-vector, then to get the corresponding bra-vector, you would need to take the complex conjugate of the ket-vector."
   ]
  },
  {
   "cell_type": "code",
   "execution_count": 23,
   "metadata": {},
   "outputs": [],
   "source": [
    "## doing inner products between Bra and ket vectors\n",
    "\n",
    "A = np.array([[4],[3-2j],[2],[1]]) ## a ket vector of 4x1 dim"
   ]
  },
  {
   "cell_type": "code",
   "execution_count": 24,
   "metadata": {},
   "outputs": [],
   "source": [
    "B = np.array([1,5,-4j,2j]) ## a bra-vector of 1x4 dim"
   ]
  },
  {
   "cell_type": "code",
   "execution_count": 25,
   "metadata": {},
   "outputs": [
    {
     "data": {
      "text/plain": [
       "array([19.-16.j])"
      ]
     },
     "execution_count": 25,
     "metadata": {},
     "output_type": "execute_result"
    }
   ],
   "source": [
    "np.dot(B,A)"
   ]
  },
  {
   "cell_type": "code",
   "execution_count": 29,
   "metadata": {},
   "outputs": [
    {
     "name": "stdout",
     "output_type": "stream",
     "text": [
      "[[ 2.  +1.j -0.1 +5.j]\n",
      " [-3.  +0.j  0. +48.j]]\n"
     ]
    }
   ],
   "source": [
    "### Matrics\n",
    "## In quantum world, its called operators\n",
    "\n",
    "M = np.array([[2+1j, -0.1+5j],[-3, 4_8j]])\n",
    "\n",
    "print(M)"
   ]
  },
  {
   "cell_type": "code",
   "execution_count": 30,
   "metadata": {},
   "outputs": [
    {
     "name": "stdout",
     "output_type": "stream",
     "text": [
      "[[ 2.  +1.j -0.1 +5.j]\n",
      " [-3.  +0.j  0. +48.j]]\n"
     ]
    }
   ],
   "source": [
    "M = np.matrix([[2+1j, -0.1+5j],[-3, 4_8j]])\n",
    "\n",
    "print(M)"
   ]
  },
  {
   "cell_type": "markdown",
   "metadata": {},
   "source": [
    "[Hermitian conjugate](https://en.wikipedia.org/wiki/Conjugate_transpose) is the conjugate transpose of a matrix."
   ]
  },
  {
   "cell_type": "code",
   "execution_count": 34,
   "metadata": {},
   "outputs": [
    {
     "data": {
      "text/plain": [
       "matrix([[ 2.  -1.j, -3.  -0.j],\n",
       "        [-0.1 -5.j,  0. -48.j]])"
      ]
     },
     "execution_count": 34,
     "metadata": {},
     "output_type": "execute_result"
    }
   ],
   "source": [
    "M.H  # the hermitian conjugate of the matrix"
   ]
  },
  {
   "cell_type": "markdown",
   "metadata": {},
   "source": [
    "# Tensor product of matrices"
   ]
  },
  {
   "cell_type": "code",
   "execution_count": 35,
   "metadata": {},
   "outputs": [
    {
     "data": {
      "text/plain": [
       "matrix([[ 3.000e+00  +4.j , -5.200e+00  +9.9j, -5.200e+00  +9.9j,\n",
       "         -2.499e+01  -1.j ],\n",
       "        [-6.000e+00  -3.j , -4.800e+01 +96.j ,  3.000e-01 -15.j ,\n",
       "         -2.400e+02  -4.8j],\n",
       "        [-6.000e+00  -3.j ,  3.000e-01 -15.j , -4.800e+01 +96.j ,\n",
       "         -2.400e+02  -4.8j],\n",
       "        [ 9.000e+00  -0.j , -0.000e+00-144.j , -0.000e+00-144.j ,\n",
       "         -2.304e+03  +0.j ]])"
      ]
     },
     "execution_count": 35,
     "metadata": {},
     "output_type": "execute_result"
    }
   ],
   "source": [
    "np.kron(M,M) ## matrix product"
   ]
  },
  {
   "cell_type": "code",
   "execution_count": null,
   "metadata": {},
   "outputs": [],
   "source": []
  }
 ],
 "metadata": {
  "kernelspec": {
   "display_name": "Python 3",
   "language": "python",
   "name": "python3"
  },
  "language_info": {
   "codemirror_mode": {
    "name": "ipython",
    "version": 3
   },
   "file_extension": ".py",
   "mimetype": "text/x-python",
   "name": "python",
   "nbconvert_exporter": "python",
   "pygments_lexer": "ipython3",
   "version": "3.8.2"
  }
 },
 "nbformat": 4,
 "nbformat_minor": 4
}
